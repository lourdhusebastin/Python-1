{
 "cells": [
  {
   "cell_type": "code",
   "execution_count": 30,
   "id": "d86f6477-a0e8-486f-9403-d970d0e2a621",
   "metadata": {},
   "outputs": [
    {
     "name": "stdin",
     "output_type": "stream",
     "text": [
      "enter your name ko\n",
      "enter your current weight in pounds: 09\n",
      "enter your current height in inches: 98\n"
     ]
    },
    {
     "name": "stdout",
     "output_type": "stream",
     "text": [
      "0.6587880049979176\n",
      "ko,you are underweight . Hey gain some muscle \n"
     ]
    }
   ],
   "source": [
    "Name = input('enter your name')\n",
    "Weight =int( input('enter your current weight in pounds:'))\n",
    "Height = int(input('enter your current height in inches:'))\n",
    "\n",
    "BMI = (Weight * 703) / (Height * Height)\n",
    "print(BMI)\n",
    "\n",
    "if BMI >0 :\n",
    "    if (BMI < 18.5):\n",
    "        print( Name +',you are underweight . Hey gain some muscle ')\n",
    "    elif (BMI <= 24.9):\n",
    "        print(Name +',you are normal weight. Hey good')\n",
    "    elif (BMI <= 29.9):\n",
    "        print(Name +',you are overweight. Hey loseweight and go gym')\n",
    "    elif(BMI <= 34.9):\n",
    "        print( Name +',you are obese.Hey loseweight and go gym')\n",
    "    elif(BMI <= 39.9):\n",
    "        print(Name +',you are severly obses.Hey loseweight and go doctor')\n",
    "    elif(BMI >= 40):\n",
    "        print(Name +',you are over-morbidly obses.Hey loseweight and go doctor')\n",
    "else :\n",
    "    print('enter vailed input')"
   ]
  },
  {
   "cell_type": "code",
   "execution_count": null,
   "id": "f2c93968-e7c4-471c-b573-3cf72fbfb521",
   "metadata": {},
   "outputs": [],
   "source": []
  },
  {
   "cell_type": "code",
   "execution_count": null,
   "id": "96d5a5fe-ffb1-4225-9fcf-70d59391b463",
   "metadata": {},
   "outputs": [],
   "source": []
  },
  {
   "cell_type": "code",
   "execution_count": null,
   "id": "6d251c28-23fe-4b1e-a05d-3a0c11bbdf79",
   "metadata": {},
   "outputs": [],
   "source": []
  },
  {
   "cell_type": "code",
   "execution_count": null,
   "id": "85918fa6-e3ec-48bd-8030-827039d97d62",
   "metadata": {},
   "outputs": [],
   "source": []
  },
  {
   "cell_type": "code",
   "execution_count": null,
   "id": "1fe9df03-a827-4d2c-ba53-303f33702a68",
   "metadata": {},
   "outputs": [],
   "source": []
  },
  {
   "cell_type": "code",
   "execution_count": null,
   "id": "b6d705c8-c689-410a-abff-3baecd631684",
   "metadata": {},
   "outputs": [],
   "source": []
  },
  {
   "cell_type": "code",
   "execution_count": null,
   "id": "075e091f-e885-4804-9018-9365848b92a3",
   "metadata": {},
   "outputs": [],
   "source": []
  },
  {
   "cell_type": "code",
   "execution_count": null,
   "id": "0ad0b186-c6b7-4f8b-82a6-6666b1701f5c",
   "metadata": {},
   "outputs": [],
   "source": []
  },
  {
   "cell_type": "code",
   "execution_count": null,
   "id": "f88c0d58-4b74-4409-9cfd-bc766aaed335",
   "metadata": {},
   "outputs": [],
   "source": []
  },
  {
   "cell_type": "code",
   "execution_count": null,
   "id": "f3ba8e65-70b5-40b2-8923-31093e4baa54",
   "metadata": {},
   "outputs": [],
   "source": []
  },
  {
   "cell_type": "code",
   "execution_count": null,
   "id": "0b47587e-f9c1-410d-a84e-5f0195a282d9",
   "metadata": {},
   "outputs": [],
   "source": []
  },
  {
   "cell_type": "code",
   "execution_count": null,
   "id": "6eeddf8c-a924-45ae-b997-c7bb985c3d3f",
   "metadata": {},
   "outputs": [],
   "source": []
  },
  {
   "cell_type": "code",
   "execution_count": null,
   "id": "3608c408-c2e0-48b3-bb9f-6c7a21061540",
   "metadata": {},
   "outputs": [],
   "source": []
  },
  {
   "cell_type": "code",
   "execution_count": null,
   "id": "58a22947-d126-462e-a571-feeb05827825",
   "metadata": {},
   "outputs": [],
   "source": []
  },
  {
   "cell_type": "code",
   "execution_count": null,
   "id": "87be9014-804a-4523-889c-532330315477",
   "metadata": {},
   "outputs": [],
   "source": []
  },
  {
   "cell_type": "code",
   "execution_count": null,
   "id": "3942f758-21b3-4095-bd07-22d1bd71a7a1",
   "metadata": {},
   "outputs": [],
   "source": []
  },
  {
   "cell_type": "code",
   "execution_count": null,
   "id": "acd75f47-e416-4636-ab3c-10b2ba6e3692",
   "metadata": {},
   "outputs": [],
   "source": []
  },
  {
   "cell_type": "code",
   "execution_count": null,
   "id": "21593d22-b66c-4c8b-90d6-206108e75f79",
   "metadata": {},
   "outputs": [],
   "source": []
  },
  {
   "cell_type": "code",
   "execution_count": null,
   "id": "b628f9cd-20a1-46fa-b13c-a03f16f279a8",
   "metadata": {},
   "outputs": [],
   "source": []
  },
  {
   "cell_type": "code",
   "execution_count": null,
   "id": "4f1a390c-c9ab-4980-9b2c-c5b985960212",
   "metadata": {},
   "outputs": [],
   "source": []
  },
  {
   "cell_type": "code",
   "execution_count": null,
   "id": "d436de50-09e7-4d47-bf2a-91f1c377bcb7",
   "metadata": {},
   "outputs": [],
   "source": []
  },
  {
   "cell_type": "code",
   "execution_count": null,
   "id": "f43e54dd-e66e-4bd3-b9fb-63728bd78b47",
   "metadata": {},
   "outputs": [],
   "source": []
  },
  {
   "cell_type": "code",
   "execution_count": null,
   "id": "992ead11-74b5-4e9e-9101-297646cf4a64",
   "metadata": {},
   "outputs": [],
   "source": []
  },
  {
   "cell_type": "code",
   "execution_count": null,
   "id": "d294f515-2ccf-42b1-98a2-02b8132af1a8",
   "metadata": {},
   "outputs": [],
   "source": []
  },
  {
   "cell_type": "code",
   "execution_count": null,
   "id": "4780e6ca-b4d3-4c8f-9c78-1b2ddb248d7b",
   "metadata": {},
   "outputs": [],
   "source": []
  },
  {
   "cell_type": "code",
   "execution_count": null,
   "id": "a2bb4d28-99f5-48f9-a14b-5c116c84cd13",
   "metadata": {},
   "outputs": [],
   "source": []
  },
  {
   "cell_type": "code",
   "execution_count": null,
   "id": "b2fe254e-85f5-443a-9c6f-136a5e2c7d89",
   "metadata": {},
   "outputs": [],
   "source": []
  },
  {
   "cell_type": "code",
   "execution_count": null,
   "id": "11fd691e-d124-45dd-810f-a3738216d2b6",
   "metadata": {},
   "outputs": [],
   "source": []
  },
  {
   "cell_type": "code",
   "execution_count": null,
   "id": "e7636434-e05f-48e5-8258-64c0128a8f97",
   "metadata": {},
   "outputs": [],
   "source": []
  },
  {
   "cell_type": "code",
   "execution_count": null,
   "id": "6e27a5af-2d2e-4939-85ac-af32c8ad6a21",
   "metadata": {},
   "outputs": [],
   "source": []
  },
  {
   "cell_type": "code",
   "execution_count": null,
   "id": "32ea9794-1721-4797-8997-6eabb2c41939",
   "metadata": {},
   "outputs": [],
   "source": []
  },
  {
   "cell_type": "code",
   "execution_count": null,
   "id": "0f958280-1c9f-40d0-a87d-4ba015e04574",
   "metadata": {},
   "outputs": [],
   "source": []
  },
  {
   "cell_type": "code",
   "execution_count": null,
   "id": "2ff52c47-6e55-4c61-8b9a-d132a96ac5a9",
   "metadata": {},
   "outputs": [],
   "source": []
  }
 ],
 "metadata": {
  "kernelspec": {
   "display_name": "Python 3 (ipykernel)",
   "language": "python",
   "name": "python3"
  },
  "language_info": {
   "codemirror_mode": {
    "name": "ipython",
    "version": 3
   },
   "file_extension": ".py",
   "mimetype": "text/x-python",
   "name": "python",
   "nbconvert_exporter": "python",
   "pygments_lexer": "ipython3",
   "version": "3.11.7"
  }
 },
 "nbformat": 4,
 "nbformat_minor": 5
}
